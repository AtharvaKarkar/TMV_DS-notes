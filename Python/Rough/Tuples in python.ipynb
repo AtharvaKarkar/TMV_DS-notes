{
 "cells": [
  {
   "cell_type": "code",
   "execution_count": null,
   "id": "c2958a76",
   "metadata": {},
   "outputs": [],
   "source": [
    "# Tuples in python\n",
    "print(\"Tuples are ordered collection of items, which allows duplicate values, but it is unchangable\")\n",
    "names = (\"jim\",\"jam\",\"sam\",\"vam\")\n",
    "print(\"This is the lenght of names tuples\",len(names))\n",
    "names = (\"apple\",) #considered as a tuples cuz comman is given outside double quotes\n",
    "print(type(names))\n",
    "names = (\"apple\")  # considered as a string cuz comman is not given.\n",
    "print(type(names))"
   ]
  },
  {
   "cell_type": "code",
   "execution_count": null,
   "id": "2b2c644e",
   "metadata": {},
   "outputs": [],
   "source": [
    "a = [1,2,3,4,5,6,7]\n",
    "print(\"This is a list \",a)\n",
    "print(type(a))\n",
    "b = tuple(a) # converting the list into a tuple by using the tuple() constructor\n",
    "print(\"This was originally a list which is now converted into tuple\",b)\n",
    "print(type(b))\n",
    "print(b[-1])\n",
    "print(a)\n"
   ]
  },
  {
   "cell_type": "code",
   "execution_count": null,
   "id": "374df6fc",
   "metadata": {},
   "outputs": [],
   "source": [
    "fname = (\"jim\",\"vam\",\"sam\")\n",
    "lname = (\"jam\",\"pan\",\"ren\")\n",
    "num = (1,2,3)\n",
    "all_mix = zip(fname,lname,num)\n",
    "print(all_mix) # human cannot understand this output\n",
    "d = tuple(all_mix)\n",
    "print(d)"
   ]
  },
  {
   "cell_type": "markdown",
   "id": "2aa2dfc5",
   "metadata": {},
   "source": []
  },
  {
   "cell_type": "code",
   "execution_count": null,
   "id": "f44ed3e6",
   "metadata": {},
   "outputs": [],
   "source": [
    "# unpacking tuples : allows us to extract the tuple elements and assign them to named variables\n",
    "stud = (fname,lname,num)\n",
    "print(fname,lname,num,\"years old\")"
   ]
  },
  {
   "cell_type": "code",
   "execution_count": null,
   "id": "3444bd59",
   "metadata": {},
   "outputs": [],
   "source": [
    "# difference between list and tuple in python\n",
    "\n",
    "###LIST : mutable means you can change elements (add,remove,modify) after their creation\n",
    "my_list = [1,2,3]      # lists are defined using a [] 'square brackets'\n",
    "my_list.append(4)  # append() adds an element at the end of the list \n",
    "my_list.insert(0,5) # insert() adds an element at a specified index by the user\n",
    "print(my_list)\n",
    "\n",
    "# tuple : immutable, means you cannot changes elements once the tuple is created\n",
    "my_tuple = (1,2,3,4,5)  # tuple are defined using a round bracket ().\n",
    "#my_tuple[0] = 0 # modifying an element, which will eventually raise an error\n",
    "#my_list.append(10)   this line of code will give an error too.\n",
    "print(my_tuple)\n",
    "\n",
    "dupli_tuple = (1,1,3,3,5,6,4,5)  # tuple allows duplicate elements, bcz it maintains the order in which the elements were added, regardless of whether an element appears more than once\n",
    "for item in dupli_tuple:\n",
    "    print(item)"
   ]
  },
  {
   "cell_type": "code",
   "execution_count": null,
   "id": "aaf8e68e",
   "metadata": {},
   "outputs": [],
   "source": [
    "# finding the largest element in list , using max() function\n",
    "nums = [14,54,234,90,132]\n",
    "max_item = max(nums)\n",
    "print(\"Max number present here in this list is :\",max_item)"
   ]
  },
  {
   "cell_type": "code",
   "execution_count": null,
   "id": "d11e08ad",
   "metadata": {},
   "outputs": [],
   "source": [
    "# program to count the occurance of a number in list \n",
    "my_list = [1, 2, 2, 3, 4, 2, 5, 2]\n",
    "target =2 # \n",
    "count = 0\n",
    "for num in my_list :\n",
    "    if num == target :\n",
    "        count = count + 1\n",
    "print(f\"The number {num} occurs {count} times in the list. \")"
   ]
  },
  {
   "cell_type": "code",
   "execution_count": null,
   "id": "ef474961",
   "metadata": {},
   "outputs": [],
   "source": [
    "numbers = [2,3,4,5]\n",
    "product = 1\n",
    "for num in numbers :\n",
    "    product = product * num\n",
    "print(\"the product of the elements is :\",product)\n"
   ]
  },
  {
   "cell_type": "code",
   "execution_count": null,
   "id": "adb3817a",
   "metadata": {},
   "outputs": [],
   "source": [
    "# program to print the largest and smallest element in a list without using min and max function\n",
    "numbers = [5, 2, 9, 1, 7, 3]\n",
    "largest_num = numbers[0]     # initializing the largest and smallest variables with the values of first numbers in list.\n",
    "smallest_num = numbers[0]\n",
    "\n",
    "for num in numbers :\n",
    "    if num > largest_num :\n",
    "        largest = num\n",
    "    elif num < smallest_num :\n",
    "        smallest = num\n",
    "print(\"Largest number\",largest)\n",
    "print(\"Smallest number\",smallest)\n"
   ]
  },
  {
   "cell_type": "code",
   "execution_count": null,
   "id": "7cd6d51f",
   "metadata": {},
   "outputs": [],
   "source": [
    "# program to reverse a string\n",
    "nums = [14,54,234,90,132]\n",
    "print(\"List in original order: \",nums)\n",
    "print(\"List in reverse order\",nums[::-1])  # [start,end,step]"
   ]
  },
  {
   "cell_type": "code",
   "execution_count": null,
   "id": "9ab037e8",
   "metadata": {},
   "outputs": [],
   "source": []
  }
 ],
 "metadata": {
  "kernelspec": {
   "display_name": "Python 3 (ipykernel)",
   "language": "python",
   "name": "python3"
  },
  "language_info": {
   "codemirror_mode": {
    "name": "ipython",
    "version": 3
   },
   "file_extension": ".py",
   "mimetype": "text/x-python",
   "name": "python",
   "nbconvert_exporter": "python",
   "pygments_lexer": "ipython3",
   "version": "3.11.4"
  }
 },
 "nbformat": 4,
 "nbformat_minor": 5
}
