{
 "cells": [
  {
   "cell_type": "code",
   "execution_count": 3,
   "id": "7bcfe7f9",
   "metadata": {},
   "outputs": [
    {
     "name": "stdout",
     "output_type": "stream",
     "text": [
      "Mean: 30.0\n",
      "Standard Deviation: 14.142135623730951\n"
     ]
    }
   ],
   "source": [
    "# Example list of numbers\n",
    "numbers = [10, 20, 30, 40, 50]\n",
    "\n",
    "# Calculate the mean (average) of the numbers\n",
    "total_sum = 0\n",
    "for num in numbers:\n",
    "    total_sum += num  # Accumulate the sum of all numbers\n",
    "\n",
    "mean = total_sum / len(numbers)  # Divide the sum by the number of elements\n",
    "\n",
    "# Calculate the squared differences from the mean for standard deviation\n",
    "squared_diff_sum = 0\n",
    "for num in numbers:\n",
    "    squared_diff_sum += (num - mean) ** 2  # Accumulate the sum of squared differences\n",
    "\n",
    "# Calculate the variance (average squared difference)\n",
    "variance = squared_diff_sum / len(numbers)\n",
    "\n",
    "# Calculate the standard deviation by taking the square root of variance\n",
    "standard_deviation = variance ** 0.5\n",
    "\n",
    "# Print the results\n",
    "print(\"Mean:\", mean)\n",
    "print(\"Standard Deviation:\", standard_deviation)\n"
   ]
  },
  {
   "cell_type": "code",
   "execution_count": null,
   "id": "5940cf64",
   "metadata": {},
   "outputs": [],
   "source": []
  }
 ],
 "metadata": {
  "kernelspec": {
   "display_name": "Python 3 (ipykernel)",
   "language": "python",
   "name": "python3"
  },
  "language_info": {
   "codemirror_mode": {
    "name": "ipython",
    "version": 3
   },
   "file_extension": ".py",
   "mimetype": "text/x-python",
   "name": "python",
   "nbconvert_exporter": "python",
   "pygments_lexer": "ipython3",
   "version": "3.11.4"
  }
 },
 "nbformat": 4,
 "nbformat_minor": 5
}
